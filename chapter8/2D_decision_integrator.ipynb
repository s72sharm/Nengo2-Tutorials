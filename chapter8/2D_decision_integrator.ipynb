{
 "metadata": {
  "name": "",
  "signature": "sha256:d8d36bb2a2a6f77aad94f045cd412c5a6430068fd782138709f98469b94885bb"
 },
 "nbformat": 3,
 "nbformat_minor": 0,
 "worksheets": [
  {
   "cells": [
    {
     "cell_type": "heading",
     "level": 1,
     "metadata": {},
     "source": [
      "2D Decision Integrator"
     ]
    },
    {
     "cell_type": "markdown",
     "metadata": {},
     "source": [
      "This demo shows a two dimensional integrator. Rather than having two different integrators for each dimension, a single two dimensional integrator model is built. This integrator can be used irrespective of the task demands since it effectively integrates in every direction simultaneously. \n",
      "\n",
      "This is neurally more efficient since all the neurons in the integrator contribute to any such accumulation task to the degree they are relevant. \n",
      "\n",
      "The network connection is as shown below:\n",
      "input -> 2D_Input_Ensemble -> 2D_MT_Ensemble -> 2D_LIP_Ensemble -> 2D_Output_Ensemble\n",
      "Additionally, 2D_LIP_Ensemble also has a recurrent connection to itself."
     ]
    },
    {
     "cell_type": "code",
     "collapsed": false,
     "input": [
      "import matplotlib.pyplot as plt\n",
      "%matplotlib inline\n",
      "\n",
      "import nengo"
     ],
     "language": "python",
     "metadata": {},
     "outputs": [
      {
       "javascript": [
        "\n",
        "        require([\"widgets/js/widget\", \"widgets/js/manager\"],\n",
        "            function(widget, manager) {\n",
        "          if (typeof widget.DOMWidgetView == 'undefined') {\n",
        "            widget = IPython;\n",
        "          }\n",
        "          if (typeof manager.WidgetManager == 'undefined') {\n",
        "            manager = IPython;\n",
        "          }\n",
        "\n",
        "          var NengoProgressBar = widget.DOMWidgetView.extend({\n",
        "            render: function() {\n",
        "              // $el is the DOM of the widget\n",
        "              this.$el.css({width: '100%', marginBottom: '0.5em'});\n",
        "              this.$el.html([\n",
        "                '<div style=\"',\n",
        "                    'width: 100%;',\n",
        "                    'border: 1px solid #cfcfcf;',\n",
        "                    'border-radius: 4px;',\n",
        "                    'text-align: center;',\n",
        "                    'position: relative;\">',\n",
        "                  '<div class=\"pb-text\" style=\"',\n",
        "                      'position: absolute;',\n",
        "                      'width: 100%;\">',\n",
        "                    '0%',\n",
        "                  '</div>',\n",
        "                  '<div class=\"pb-bar\" style=\"',\n",
        "                      'background-color: #bdd2e6;',\n",
        "                      'width: 0%;',\n",
        "                      'transition: width 0.1s linear;\">',\n",
        "                    '&nbsp;',\n",
        "                  '</div>',\n",
        "                '</div>'].join(''));\n",
        "            },\n",
        "\n",
        "            update: function() {\n",
        "              this.$el.css({width: '100%', marginBottom: '0.5em'});\n",
        "              var progress = 100 * this.model.get('progress');\n",
        "              var text = this.model.get('text');\n",
        "              this.$el.find('div.pb-bar').width(progress.toString() + '%');\n",
        "              this.$el.find('div.pb-text').text(text);\n",
        "            },\n",
        "          });\n",
        "\n",
        "          manager.WidgetManager.register_widget_view(\n",
        "            'NengoProgressBar', NengoProgressBar);\n",
        "        });"
       ],
       "metadata": {},
       "output_type": "display_data",
       "text": [
        "<IPython.core.display.Javascript at 0xa5788d0>"
       ]
      }
     ],
     "prompt_number": 1
    },
    {
     "cell_type": "markdown",
     "metadata": {},
     "source": [
      "##Step 1: Create the Model"
     ]
    },
    {
     "cell_type": "markdown",
     "metadata": {},
     "source": [
      "The model has four ensembles: mt representing the motion area, lip representing the lateral intraparietal area, input and output of the 2D integrator."
     ]
    },
    {
     "cell_type": "code",
     "collapsed": false,
     "input": [
      "# Create the model object\n",
      "model = nengo.Network(label='2D Decision Integrator')\n",
      "with model:\n",
      "    # Our ensemble consists of 100 leaky integrate-and-fire neurons,\n",
      "    # representing a one-dimensional signal\n",
      "    input = nengo.Ensemble(100, dimensions=2)\n",
      "    mt = nengo.Ensemble(100, dimensions=2)\n",
      "    lip = nengo.Ensemble(200, dimensions=2)\n",
      "    output = nengo.Ensemble(100, dimensions=2)"
     ],
     "language": "python",
     "metadata": {},
     "outputs": [],
     "prompt_number": 2
    },
    {
     "cell_type": "markdown",
     "metadata": {},
     "source": [
      "##Step 2: Create Input for the Model"
     ]
    },
    {
     "cell_type": "markdown",
     "metadata": {},
     "source": [
      "We will use two constant scalar values for the two input signals that drive activity in ensembles A and B. "
     ]
    },
    {
     "cell_type": "code",
     "collapsed": false,
     "input": [
      "# Create a piecewise step function for input\n",
      "from nengo.utils.functions import piecewise\n",
      "with model:\n",
      "    input1 = nengo.Node(piecewise({0: 0, 0.2: 1, 1: 0, 2: -0.5, 3: 0, 4: 1, 5: 0}))\n",
      "    input2 = nengo.Node(piecewise({0: 0, 0.2: -1, 1: 0, 2: 0.5, 3: 0, 4: -1, 5: 0}))"
     ],
     "language": "python",
     "metadata": {},
     "outputs": [],
     "prompt_number": 3
    },
    {
     "cell_type": "markdown",
     "metadata": {},
     "source": [
      "## Step3: Connect the Model Elements"
     ]
    },
    {
     "cell_type": "code",
     "collapsed": false,
     "input": [
      "with model:\n",
      "    \n",
      "    tau = 0.1\n",
      "    nengo.Connection(input1, input[0], transform=[[1]], synapse=0.01) # Using a long time constant for stability\n",
      "    nengo.Connection(input2, input[1], transform=[[1]], synapse=0.01) \n",
      "    \n",
      "    nengo.Connection(input[0], mt[0], transform=[[tau]], synapse=0.01) \n",
      "    nengo.Connection(input[1], mt[1], transform=[[tau]], synapse=0.01) \n",
      "    \n",
      "    nengo.Connection(mt[0], lip[0], transform=[[1]], synapse=0.1) \n",
      "    nengo.Connection(mt[1], lip[1], transform=[[1]], synapse=0.1) \n",
      "    \n",
      "    # Connect the population to itself\n",
      "    nengo.Connection(lip[0], lip[0], transform=[[1]], synapse=0.1) \n",
      "    nengo.Connection(lip[1], lip[1], transform=[[1]], synapse=0.1) \n",
      "    \n",
      "    nengo.Connection(lip[0], output[0], transform=[[1]], synapse=0.01) \n",
      "    nengo.Connection(lip[1], output[1], transform=[[1]], synapse=0.01) "
     ],
     "language": "python",
     "metadata": {},
     "outputs": [],
     "prompt_number": 4
    },
    {
     "cell_type": "markdown",
     "metadata": {},
     "source": [
      "##Step 4: Add Probes to Collect Data"
     ]
    },
    {
     "cell_type": "markdown",
     "metadata": {},
     "source": [
      "Let's collect output data from each ensemble and output. "
     ]
    },
    {
     "cell_type": "code",
     "collapsed": false,
     "input": [
      "with model:\n",
      "    # Add probes\n",
      "    mt_probe = nengo.Probe(mt, synapse=0.1)\n",
      "    lip_probe = nengo.Probe(lip, synapse=0.1)\n",
      "    input_probe = nengo.Probe(input, synapse=0.1)\n",
      "    output_probe = nengo.Probe(output, synapse=0.1)"
     ],
     "language": "python",
     "metadata": {},
     "outputs": [],
     "prompt_number": 48
    },
    {
     "cell_type": "markdown",
     "metadata": {},
     "source": [
      "##Step 5: Run the Model"
     ]
    },
    {
     "cell_type": "markdown",
     "metadata": {},
     "source": [
      "In order to run the model, we have to create a simulator. Then, we can run that simulator over and over again without affecting the original model."
     ]
    },
    {
     "cell_type": "code",
     "collapsed": false,
     "input": [
      "# Create our simulator\n",
      "sim = nengo.Simulator(model)\n",
      "# Run it for 6 seconds\n",
      "sim.run(6)"
     ],
     "language": "python",
     "metadata": {},
     "outputs": [],
     "prompt_number": 53
    },
    {
     "cell_type": "markdown",
     "metadata": {},
     "source": [
      "## Step 6: Plot the Results "
     ]
    },
    {
     "cell_type": "markdown",
     "metadata": {},
     "source": [
      "The data produced by running the model can now be plotted."
     ]
    },
    {
     "cell_type": "code",
     "collapsed": false,
     "input": [
      "# Plot the decoded output of the ensemble\n",
      "plt.figure(figsize=(14, 3))\n",
      "plt.subplot(1, 3, 1)\n",
      "plt.plot(sim.trange(), sim.data[mt_probe], 'g' , label=\"MT\")\n",
      "plt.title(\"MT\")\n",
      "plt.subplot(1, 3, 2)\n",
      "plt.plot(sim.trange(), sim.data[lip_probe], 'b' , label=\"LIP\")\n",
      "plt.title(\"LIP\")\n",
      "\n",
      "plt.figure(figsize=(14, 3))\n",
      "plt.subplot(1, 3, 1)\n",
      "plt.plot(sim.trange(), sim.data[input_probe], 'r' , label=\"input\")\n",
      "plt.plot(sim.trange(), sim.data[output_probe], 'k', label=\"output_probe\")\n",
      "plt.legend(bbox_to_anchor=(1.05, 1), loc=2, borderaxespad=0.0)"
     ],
     "language": "python",
     "metadata": {},
     "outputs": [
      {
       "metadata": {},
       "output_type": "pyout",
       "prompt_number": 54,
       "text": [
        "<matplotlib.legend.Legend at 0x2134e0b8>"
       ]
      },
      {
       "metadata": {},
       "output_type": "display_data",
       "png": "[encoded data removed]",
       "text": [
        "<matplotlib.figure.Figure at 0x25ceebe0>"
       ]
      },
      {
       "metadata": {},
       "output_type": "display_data",
       "png": "[encoded data removed]",
       "text": [
        "<matplotlib.figure.Figure at 0x214f56a0>"
       ]
      }
     ],
     "prompt_number": 54
    },
    {
     "cell_type": "markdown",
     "metadata": {},
     "source": [
      "The bottom plot shows the output of the 2D integrator which is represented by a single two dimensional output ensemble."
     ]
    }
   ],
   "metadata": {}
  }
 ]
}