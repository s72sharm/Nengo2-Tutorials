{
 "metadata": {
  "name": "",
  "signature": "sha256:5d06e532c87d2fba98bd93267f52e53cdb1ad906e62ff91adfc32b02f816f945"
 },
 "nbformat": 3,
 "nbformat_minor": 0,
 "worksheets": [
  {
   "cells": [
    {
     "cell_type": "markdown",
     "metadata": {},
     "source": [
      "# Nengo Example: Multiplication"
     ]
    },
    {
     "cell_type": "markdown",
     "metadata": {},
     "source": [
      "This demo shows how to multiply two values. The model architecture can be thought of as a combination of combining and the squaring. Essentially, we project both inputs independently into a 2D space, and then decode a nonlinear transformation of that space (the product of the first and second vector elements)."
     ]
    },
    {
     "cell_type": "code",
     "collapsed": false,
     "input": [
      "import matplotlib.pyplot as plt\n",
      "%matplotlib inline\n",
      "\n",
      "import nengo"
     ],
     "language": "python",
     "metadata": {},
     "outputs": [
      {
       "javascript": [
        "\n",
        "        require([\"widgets/js/widget\", \"widgets/js/manager\"],\n",
        "            function(widget, manager) {\n",
        "          if (typeof widget.DOMWidgetView == 'undefined') {\n",
        "            widget = IPython;\n",
        "          }\n",
        "          if (typeof manager.WidgetManager == 'undefined') {\n",
        "            manager = IPython;\n",
        "          }\n",
        "\n",
        "          var NengoProgressBar = widget.DOMWidgetView.extend({\n",
        "            render: function() {\n",
        "              // $el is the DOM of the widget\n",
        "              this.$el.css({width: '100%', marginBottom: '0.5em'});\n",
        "              this.$el.html([\n",
        "                '<div style=\"',\n",
        "                    'width: 100%;',\n",
        "                    'border: 1px solid #cfcfcf;',\n",
        "                    'border-radius: 4px;',\n",
        "                    'text-align: center;',\n",
        "                    'position: relative;\">',\n",
        "                  '<div class=\"pb-text\" style=\"',\n",
        "                      'position: absolute;',\n",
        "                      'width: 100%;\">',\n",
        "                    '0%',\n",
        "                  '</div>',\n",
        "                  '<div class=\"pb-bar\" style=\"',\n",
        "                      'background-color: #bdd2e6;',\n",
        "                      'width: 0%;',\n",
        "                      'transition: width 0.1s linear;\">',\n",
        "                    '&nbsp;',\n",
        "                  '</div>',\n",
        "                '</div>'].join(''));\n",
        "            },\n",
        "\n",
        "            update: function() {\n",
        "              this.$el.css({width: '100%', marginBottom: '0.5em'});\n",
        "              var progress = 100 * this.model.get('progress');\n",
        "              var text = this.model.get('text');\n",
        "              this.$el.find('div.pb-bar').width(progress.toString() + '%');\n",
        "              this.$el.find('div.pb-text').text(text);\n",
        "            },\n",
        "          });\n",
        "\n",
        "          manager.WidgetManager.register_widget_view(\n",
        "            'NengoProgressBar', NengoProgressBar);\n",
        "        });"
       ],
       "metadata": {},
       "output_type": "display_data",
       "text": [
        "<IPython.core.display.Javascript at 0xa57b8d0>"
       ]
      }
     ],
     "prompt_number": 1
    },
    {
     "cell_type": "markdown",
     "metadata": {},
     "source": [
      "## Step 1: Create the Model"
     ]
    },
    {
     "cell_type": "markdown",
     "metadata": {},
     "source": [
      "The model has four ensembles: two input ensembles ('A' and 'B'), a 2D combined ensemble ('Combined'), and an output ensemble ('prod')."
     ]
    },
    {
     "cell_type": "code",
     "collapsed": false,
     "input": [
      "# Create the model object\n",
      "model = nengo.Network(label='Multiplication')\n",
      "with model:\n",
      "    # Create 4 ensembles of leaky integrate-and-fire neurons\n",
      "    A = nengo.Ensemble(100, dimensions=1, radius=10)\n",
      "    B = nengo.Ensemble(100, dimensions=1, radius=10)\n",
      "    combined = nengo.Ensemble(224, dimensions=2, radius=15) # This radius is ~sqrt(10^2+10^2)\n",
      "    prod = nengo.Ensemble(100, dimensions=1, radius=20)\n",
      "\n",
      "# This next two lines make all of the encoders in the Combined population point at the \n",
      "# corners of the cube. This improves the quality of the computation.\n",
      "# Note the number of neurons is assumed to be divisible by 4\n",
      "from nengo.dists import Choice\n",
      "# Comment out the line below for 'normal' encoders\n",
      "combined.encoders = Choice([[1,1],[-1,1],[1,-1],[-1,-1]])"
     ],
     "language": "python",
     "metadata": {},
     "outputs": [],
     "prompt_number": 2
    },
    {
     "cell_type": "markdown",
     "metadata": {},
     "source": [
      "##Step 2: Provide input to the model"
     ]
    },
    {
     "cell_type": "markdown",
     "metadata": {},
     "source": [
      "We will use two varying scalar values for the two input signals that drive activity in ensembles A and B."
     ]
    },
    {
     "cell_type": "code",
     "collapsed": false,
     "input": [
      "from nengo.utils.functions import piecewise\n",
      "with model:\n",
      "    # Create a piecewise step function for input\n",
      "    inputA = nengo.Node(piecewise({0: 0, 2.5: 10, 4: -10}))\n",
      "    inputB = nengo.Node(piecewise({0: 10, 1.5: 2, 3: 0, 4.5: 2}))\n",
      "    \n",
      "    correct_ans = piecewise({0: 0, 1.5: 0, 2.5: 20, 3: 0, 4: 0, 4.5: -20})"
     ],
     "language": "python",
     "metadata": {},
     "outputs": [],
     "prompt_number": 3
    },
    {
     "cell_type": "markdown",
     "metadata": {},
     "source": [
      "## Step 3: Connect the Model Elements"
     ]
    },
    {
     "cell_type": "code",
     "collapsed": false,
     "input": [
      "with model:\n",
      "    # Connect the input nodes to the appropriate ensembles\n",
      "    nengo.Connection(inputA, A)\n",
      "    nengo.Connection(inputB, B)\n",
      "    \n",
      "    # Connect input ensembles A and B to the 2D combined ensemble\n",
      "    nengo.Connection(A, combined[0])\n",
      "    nengo.Connection(B, combined[1])\n",
      "    \n",
      "    # Define a function that computes the multiplication of two inputs\n",
      "    def product(x):\n",
      "        return x[0] * x[1]\n",
      "    \n",
      "    # Connect the combined ensemble to the output ensemble D\n",
      "    nengo.Connection(combined, prod, function=product)"
     ],
     "language": "python",
     "metadata": {},
     "outputs": [],
     "prompt_number": 4
    },
    {
     "cell_type": "markdown",
     "metadata": {},
     "source": [
      "##Step 4: Add Probes to Collect Data"
     ]
    },
    {
     "cell_type": "markdown",
     "metadata": {},
     "source": [
      "Collect output data from each ensemble and input."
     ]
    },
    {
     "cell_type": "code",
     "collapsed": false,
     "input": [
      "with model:\n",
      "    inputA_probe = nengo.Probe(inputA)\n",
      "    inputB_probe = nengo.Probe(inputB,)\n",
      "    A_probe = nengo.Probe(A, synapse=0.01)\n",
      "    B_probe = nengo.Probe(B, synapse=0.01)\n",
      "    combined_probe = nengo.Probe(combined, synapse=0.01)\n",
      "    prod_probe = nengo.Probe(prod, synapse=0.01)"
     ],
     "language": "python",
     "metadata": {},
     "outputs": [],
     "prompt_number": 5
    },
    {
     "cell_type": "markdown",
     "metadata": {},
     "source": [
      "## Step 5: Run the model"
     ]
    },
    {
     "cell_type": "code",
     "collapsed": false,
     "input": [
      "# Create the simulator\n",
      "sim = nengo.Simulator(model)\n",
      "# Run it for 5 seconds\n",
      "sim.run(5)"
     ],
     "language": "python",
     "metadata": {},
     "outputs": [],
     "prompt_number": 6
    },
    {
     "cell_type": "markdown",
     "metadata": {},
     "source": [
      "## Step 6: Plot the results"
     ]
    },
    {
     "cell_type": "markdown",
     "metadata": {},
     "source": [
      "To check the performance of the model, we can plot the input signals and decoded ensemble values. "
     ]
    },
    {
     "cell_type": "code",
     "collapsed": false,
     "input": [
      "# Plot the input signals and decoded ensemble values\n",
      "plt.plot(sim.trange(), sim.data[A_probe], label=\"Decoded A\")\n",
      "plt.plot(sim.trange(), sim.data[B_probe], label=\"Decoded B\")\n",
      "plt.plot(sim.trange(), sim.data[prod_probe], label=\"Decoded product\")\n",
      "plt.plot(sim.trange(), [correct_ans(t) for t in sim.trange()], c='k', label=\"Actual product\")\n",
      "plt.legend(loc='best')\n",
      "plt.ylim(-25, 25);"
     ],
     "language": "python",
     "metadata": {},
     "outputs": [
      {
       "metadata": {},
       "output_type": "display_data",
       "png": "[encoded data removed]",
       "text": [
        "<matplotlib.figure.Figure at 0xa5905c0>"
       ]
      }
     ],
     "prompt_number": 7
    },
    {
     "cell_type": "markdown",
     "metadata": {},
     "source": [
      "The input signals we chose make it obvious when things are working, as the inputs are zero often (so the product should be). When choosing encoders randomly around the circle (the default in Nengo), you may see more unwanted interactions between the inputs. To see this, comment the above code that sets the encoders to the corners of the cube (in Step 1 where it says #Comment out the line below for 'normal' encoders)."
     ]
    }
   ],
   "metadata": {}
  }
 ]
}