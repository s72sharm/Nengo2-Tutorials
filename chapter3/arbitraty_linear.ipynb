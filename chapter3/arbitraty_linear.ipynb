{
 "metadata": {
  "name": "",
  "signature": "sha256:bd52f6f79afe138f6ae0bef1a911638eb8743bfb59c6abfa05a51cba6fb0f435"
 },
 "nbformat": 3,
 "nbformat_minor": 0,
 "worksheets": [
  {
   "cells": [
    {
     "cell_type": "markdown",
     "metadata": {},
     "source": [
      "# Arbitraty Linear Transformation"
     ]
    },
    {
     "cell_type": "markdown",
     "metadata": {},
     "source": [
      "This demo shows that any linear transformation between ensembles can be easily computed by selecting an appropriate value for the \"transform\". We will look at an example of computing linear transformations using vector representations.\n",
      "\n",
      "Network diagram:\n",
      "\n",
      "      [Input - 2D] ---> (A - 2d) ---> (B - 3D)\n",
      "\n",
      "A two-dimensional input signal is fed into a first two-dimensional neuronal ensemble $A$ , which then projects it on to another three-dimensional ensemble $B$."
     ]
    },
    {
     "cell_type": "code",
     "collapsed": false,
     "input": [
      "import numpy as np\n",
      "import matplotlib.pyplot as plt\n",
      "%matplotlib inline\n",
      "\n",
      "import nengo"
     ],
     "language": "python",
     "metadata": {},
     "outputs": [
      {
       "javascript": [
        "\n",
        "        require([\"widgets/js/widget\", \"widgets/js/manager\"],\n",
        "            function(widget, manager) {\n",
        "          if (typeof widget.DOMWidgetView == 'undefined') {\n",
        "            widget = IPython;\n",
        "          }\n",
        "          if (typeof manager.WidgetManager == 'undefined') {\n",
        "            manager = IPython;\n",
        "          }\n",
        "\n",
        "          var NengoProgressBar = widget.DOMWidgetView.extend({\n",
        "            render: function() {\n",
        "              // $el is the DOM of the widget\n",
        "              this.$el.css({width: '100%', marginBottom: '0.5em'});\n",
        "              this.$el.html([\n",
        "                '<div style=\"',\n",
        "                    'width: 100%;',\n",
        "                    'border: 1px solid #cfcfcf;',\n",
        "                    'border-radius: 4px;',\n",
        "                    'text-align: center;',\n",
        "                    'position: relative;\">',\n",
        "                  '<div class=\"pb-text\" style=\"',\n",
        "                      'position: absolute;',\n",
        "                      'width: 100%;\">',\n",
        "                    '0%',\n",
        "                  '</div>',\n",
        "                  '<div class=\"pb-bar\" style=\"',\n",
        "                      'background-color: #bdd2e6;',\n",
        "                      'width: 0%;',\n",
        "                      'transition: width 0.1s linear;\">',\n",
        "                    '&nbsp;',\n",
        "                  '</div>',\n",
        "                '</div>'].join(''));\n",
        "            },\n",
        "\n",
        "            update: function() {\n",
        "              this.$el.css({width: '100%', marginBottom: '0.5em'});\n",
        "              var progress = 100 * this.model.get('progress');\n",
        "              var text = this.model.get('text');\n",
        "              this.$el.find('div.pb-bar').width(progress.toString() + '%');\n",
        "              this.$el.find('div.pb-text').text(text);\n",
        "            },\n",
        "          });\n",
        "\n",
        "          manager.WidgetManager.register_widget_view(\n",
        "            'NengoProgressBar', NengoProgressBar);\n",
        "        });"
       ],
       "metadata": {},
       "output_type": "display_data",
       "text": [
        "<IPython.core.display.Javascript at 0xa551940>"
       ]
      }
     ],
     "prompt_number": 1
    },
    {
     "cell_type": "markdown",
     "metadata": {},
     "source": [
      "##Step 1: Create the Model"
     ]
    },
    {
     "cell_type": "code",
     "collapsed": false,
     "input": [
      "# Create a 'model' object to which we can add ensembles, connections, etc.  \n",
      "model = nengo.Network(label=\"Communications Channel\")\n",
      "with model:\n",
      "    # Create the neuronal ensembles\n",
      "    A = nengo.Ensemble(200, dimensions=2)\n",
      "    B = nengo.Ensemble(200, dimensions=3)"
     ],
     "language": "python",
     "metadata": {},
     "outputs": [],
     "prompt_number": 2
    },
    {
     "cell_type": "markdown",
     "metadata": {},
     "source": [
      "## Step 2: Create Input for the model"
     ]
    },
    {
     "cell_type": "code",
     "collapsed": false,
     "input": [
      "with model:\n",
      "    # Create two-dimensional input signal with constant values of 0.5 and -0.5 in two dimensions\n",
      "    stim = nengo.Node(lambda t: [.5,-.5])"
     ],
     "language": "python",
     "metadata": {},
     "outputs": [],
     "prompt_number": 3
    },
    {
     "cell_type": "markdown",
     "metadata": {},
     "source": [
      "## Step 3: Connect the Model Elements"
     ]
    },
    {
     "cell_type": "code",
     "collapsed": false,
     "input": [
      "with model:\n",
      "    # Connect the input to the first neuronal ensemble (2 dimensional)  \n",
      "    # The indices in neurons define which dimension the input will project to\n",
      "    nengo.Connection(stim[0], A[0])\n",
      "    nengo.Connection(stim[1], A[1])\n",
      "    \n",
      "    # Connect the first neuron ensemble (2 dimensional) to the second neuron ensemble (3 dimensional)\n",
      "    nengo.Connection(A, B, transform = [[0, 1], [1, 0], [0.5, 0.5]])"
     ],
     "language": "python",
     "metadata": {},
     "outputs": [],
     "prompt_number": 4
    },
    {
     "cell_type": "markdown",
     "metadata": {},
     "source": [
      "## Step 4: Add Probes to Collect Data\n",
      "Even this simple model involves many quantities that change over time, such as membrane potentials of individual neurons. Typically there are so many variables in a simulation that it is not practical to store them all. If we want to plot or analyze data from the simulation we have to \"probe\" the signals of interest. "
     ]
    },
    {
     "cell_type": "code",
     "collapsed": false,
     "input": [
      "with model:\n",
      "    stim_probe = nengo.Probe(stim)\n",
      "    A_probe = nengo.Probe(A, synapse=0.01)  # ensemble output \n",
      "    B_probe = nengo.Probe(B, synapse=0.01)"
     ],
     "language": "python",
     "metadata": {},
     "outputs": [],
     "prompt_number": 5
    },
    {
     "cell_type": "markdown",
     "metadata": {},
     "source": [
      "## Step 5: Run the Model"
     ]
    },
    {
     "cell_type": "code",
     "collapsed": false,
     "input": [
      "sim = nengo.Simulator(model)\n",
      "sim.run(5)"
     ],
     "language": "python",
     "metadata": {},
     "outputs": [],
     "prompt_number": 6
    },
    {
     "cell_type": "markdown",
     "metadata": {},
     "source": [
      "## Step 6: Plot the Results"
     ]
    },
    {
     "cell_type": "code",
     "collapsed": false,
     "input": [
      "plt.figure(figsize=(9, 3))\n",
      "plt.subplot(1, 3, 1)\n",
      "plt.title(\"Input\")\n",
      "plt.plot(sim.trange(), sim.data[stim_probe])\n",
      "plt.ylim(-1.2, 1.2)\n",
      "plt.subplot(1, 3, 2)\n",
      "plt.title(\"Ensemble A\")\n",
      "plt.plot(sim.trange(), sim.data[A_probe])\n",
      "plt.ylim(-1.2, 1.2)\n",
      "plt.subplot(1,3,3)\n",
      "plt.title(\"Ensemble B\")\n",
      "plt.plot(sim.trange(), sim.data[B_probe])\n",
      "plt.ylim(-1.2, 1.2)"
     ],
     "language": "python",
     "metadata": {},
     "outputs": [
      {
       "metadata": {},
       "output_type": "pyout",
       "prompt_number": 7,
       "text": [
        "(-1.2, 1.2)"
       ]
      },
      {
       "metadata": {},
       "output_type": "display_data",
       "png": "[encoded data removed]",
       "text": [
        "<matplotlib.figure.Figure at 0xf0695f8>"
       ]
      }
     ],
     "prompt_number": 7
    },
    {
     "cell_type": "markdown",
     "metadata": {},
     "source": [
      "These plots a two-dimesional input linearly projected on to a two-dimensional ensemble of neurons (A), which further linearly projects it on to a three-dimesional neuronal ensemble (B)."
     ]
    }
   ],
   "metadata": {}
  }
 ]
}