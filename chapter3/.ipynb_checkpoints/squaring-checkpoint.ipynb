{
 "metadata": {
  "name": "",
  "signature": "sha256:9cbae78dcaf96bbb3def9667ecdf8d1012b45b653d7b8d4a450ac2684a775e40"
 },
 "nbformat": 3,
 "nbformat_minor": 0,
 "worksheets": [
  {
   "cells": [
    {
     "cell_type": "markdown",
     "metadata": {},
     "source": [
      "# Nengo Example: Squaring the Input"
     ]
    },
    {
     "cell_type": "markdown",
     "metadata": {},
     "source": [
      "This demo shows you how to construct a network that squares the value encoded in a first population in the output of a second population. "
     ]
    },
    {
     "cell_type": "code",
     "collapsed": false,
     "input": [
      "import numpy as np\n",
      "import matplotlib.pyplot as plt\n",
      "%matplotlib inline\n",
      "\n",
      "import nengo"
     ],
     "language": "python",
     "metadata": {},
     "outputs": [
      {
       "javascript": [
        "\n",
        "        require([\"widgets/js/widget\", \"widgets/js/manager\"],\n",
        "            function(widget, manager) {\n",
        "          if (typeof widget.DOMWidgetView == 'undefined') {\n",
        "            widget = IPython;\n",
        "          }\n",
        "          if (typeof manager.WidgetManager == 'undefined') {\n",
        "            manager = IPython;\n",
        "          }\n",
        "\n",
        "          var NengoProgressBar = widget.DOMWidgetView.extend({\n",
        "            render: function() {\n",
        "              // $el is the DOM of the widget\n",
        "              this.$el.css({width: '100%', marginBottom: '0.5em'});\n",
        "              this.$el.html([\n",
        "                '<div style=\"',\n",
        "                    'width: 100%;',\n",
        "                    'border: 1px solid #cfcfcf;',\n",
        "                    'border-radius: 4px;',\n",
        "                    'text-align: center;',\n",
        "                    'position: relative;\">',\n",
        "                  '<div class=\"pb-text\" style=\"',\n",
        "                      'position: absolute;',\n",
        "                      'width: 100%;\">',\n",
        "                    '0%',\n",
        "                  '</div>',\n",
        "                  '<div class=\"pb-bar\" style=\"',\n",
        "                      'background-color: #bdd2e6;',\n",
        "                      'width: 0%;',\n",
        "                      'transition: width 0.1s linear;\">',\n",
        "                    '&nbsp;',\n",
        "                  '</div>',\n",
        "                '</div>'].join(''));\n",
        "            },\n",
        "\n",
        "            update: function() {\n",
        "              this.$el.css({width: '100%', marginBottom: '0.5em'});\n",
        "              var progress = 100 * this.model.get('progress');\n",
        "              var text = this.model.get('text');\n",
        "              this.$el.find('div.pb-bar').width(progress.toString() + '%');\n",
        "              this.$el.find('div.pb-text').text(text);\n",
        "            },\n",
        "          });\n",
        "\n",
        "          manager.WidgetManager.register_widget_view(\n",
        "            'NengoProgressBar', NengoProgressBar);\n",
        "        });"
       ],
       "metadata": {},
       "output_type": "display_data",
       "text": [
        "<IPython.core.display.Javascript at 0xa53f940>"
       ]
      }
     ],
     "prompt_number": 1
    },
    {
     "cell_type": "markdown",
     "metadata": {},
     "source": [
      "## Step 1: Create the Model"
     ]
    },
    {
     "cell_type": "markdown",
     "metadata": {},
     "source": [
      "The model is comprised of an input ensemble ('A') and an output ensemble ('B'), from which the squared value of the input signal can be decoded."
     ]
    },
    {
     "cell_type": "code",
     "collapsed": false,
     "input": [
      "# Create the model object\n",
      "model = nengo.Network(label='Squaring')\n",
      "with model:\n",
      "    # Create two ensembles of 100 leaky-integrate-and-fire neurons\n",
      "    A = nengo.Ensemble(100, dimensions=1)\n",
      "    B = nengo.Ensemble(100, dimensions=1)"
     ],
     "language": "python",
     "metadata": {},
     "outputs": [],
     "prompt_number": 2
    },
    {
     "cell_type": "markdown",
     "metadata": {},
     "source": [
      "##Step 2: Create Input for the Model"
     ]
    },
    {
     "cell_type": "markdown",
     "metadata": {},
     "source": [
      "A single input signal (a sine wave) will be used to drive the neural activity in ensemble A."
     ]
    },
    {
     "cell_type": "code",
     "collapsed": false,
     "input": [
      "with model:\n",
      "    # Create an input node that represents a sine wave\n",
      "    sin = nengo.Node(np.sin)  "
     ],
     "language": "python",
     "metadata": {},
     "outputs": [],
     "prompt_number": 3
    },
    {
     "cell_type": "markdown",
     "metadata": {},
     "source": [
      "## Step 3: Connect the Model Elements"
     ]
    },
    {
     "cell_type": "code",
     "collapsed": false,
     "input": [
      "with model:\n",
      "    # Connect the input node to ensemble A\n",
      "    nengo.Connection(sin, A)\n",
      "    \n",
      "    # Define the squaring function\n",
      "    def square(x):\n",
      "        return x[0] * x[0] \n",
      "    \n",
      "    # Connection ensemble A to ensemble B\n",
      "    nengo.Connection(A, B, function=square)  "
     ],
     "language": "python",
     "metadata": {},
     "outputs": [],
     "prompt_number": 4
    },
    {
     "cell_type": "markdown",
     "metadata": {},
     "source": [
      "##Step 4: Add Probes to Collect Data"
     ]
    },
    {
     "cell_type": "markdown",
     "metadata": {},
     "source": [
      "Let's collect output data from each ensemble and output."
     ]
    },
    {
     "cell_type": "code",
     "collapsed": false,
     "input": [
      "with model:\n",
      "    sin_probe = nengo.Probe(sin)\n",
      "    A_probe = nengo.Probe(A, synapse=0.01)\n",
      "    B_probe = nengo.Probe(B, synapse=0.01)"
     ],
     "language": "python",
     "metadata": {},
     "outputs": [],
     "prompt_number": 5
    },
    {
     "cell_type": "markdown",
     "metadata": {},
     "source": [
      "## Step 5: Run the Model"
     ]
    },
    {
     "cell_type": "code",
     "collapsed": false,
     "input": [
      "# Create the simulator\n",
      "sim = nengo.Simulator(model)\n",
      "# Run the simulator for 5 seconds\n",
      "sim.run(5)"
     ],
     "language": "python",
     "metadata": {},
     "outputs": [],
     "prompt_number": 6
    },
    {
     "cell_type": "markdown",
     "metadata": {},
     "source": [
      "## Step 6: Plot the Results"
     ]
    },
    {
     "cell_type": "code",
     "collapsed": false,
     "input": [
      "# Plot the input signal and decoded ensemble values\n",
      "plt.plot(sim.trange(), sim.data[A_probe],  label='Decoded Ensemble A')\n",
      "plt.plot(sim.trange(), sim.data[B_probe], label='Decoded Ensemble B')\n",
      "plt.plot(sim.trange(), sim.data[sin_probe], label='Input Sine Wave', color='k', linewidth=2.0)\n",
      "plt.legend(loc='best')\n",
      "plt.ylim(-1.2, 1.2);"
     ],
     "language": "python",
     "metadata": {},
     "outputs": [
      {
       "metadata": {},
       "output_type": "display_data",
       "png": "[encoded data removed]",
       "text": [
        "<matplotlib.figure.Figure at 0xa0bdbe0>"
       ]
      }
     ],
     "prompt_number": 7
    },
    {
     "cell_type": "markdown",
     "metadata": {},
     "source": [
      "The plotted ouput of ensemble B should show the decoded squared value of the input sine wave.  "
     ]
    }
   ],
   "metadata": {}
  }
 ]
}