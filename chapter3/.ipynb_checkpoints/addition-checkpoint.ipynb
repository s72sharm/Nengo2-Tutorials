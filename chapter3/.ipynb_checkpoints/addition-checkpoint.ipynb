{
 "metadata": {
  "name": "",
  "signature": "sha256:c922e3638bf7dfe24941a475cd535f7448fb7913ddc26d81fe3376448c8c52e8"
 },
 "nbformat": 3,
 "nbformat_minor": 0,
 "worksheets": [
  {
   "cells": [
    {
     "cell_type": "heading",
     "level": 1,
     "metadata": {},
     "source": [
      "Addition"
     ]
    },
    {
     "cell_type": "markdown",
     "metadata": {},
     "source": [
      "In this demo, we show a transformation that is the basic property of single neurons - Addition. Addition transforms two inputs into a single output which is their sum. \n",
      "\n",
      "We will construct a network that adds two inputs. The network utilizes two communication channels going into the same neural population. Thus, addition is somewhat \u2018free\u2019, since the incoming currents from different synaptic connections interact linearly."
     ]
    },
    {
     "cell_type": "code",
     "collapsed": false,
     "input": [
      "import matplotlib.pyplot as plt\n",
      "%matplotlib inline\n",
      "\n",
      "import nengo"
     ],
     "language": "python",
     "metadata": {},
     "outputs": [
      {
       "javascript": [
        "\n",
        "        require([\"widgets/js/widget\", \"widgets/js/manager\"],\n",
        "            function(widget, manager) {\n",
        "          if (typeof widget.DOMWidgetView == 'undefined') {\n",
        "            widget = IPython;\n",
        "          }\n",
        "          if (typeof manager.WidgetManager == 'undefined') {\n",
        "            manager = IPython;\n",
        "          }\n",
        "\n",
        "          var NengoProgressBar = widget.DOMWidgetView.extend({\n",
        "            render: function() {\n",
        "              // $el is the DOM of the widget\n",
        "              this.$el.css({width: '100%', marginBottom: '0.5em'});\n",
        "              this.$el.html([\n",
        "                '<div style=\"',\n",
        "                    'width: 100%;',\n",
        "                    'border: 1px solid #cfcfcf;',\n",
        "                    'border-radius: 4px;',\n",
        "                    'text-align: center;',\n",
        "                    'position: relative;\">',\n",
        "                  '<div class=\"pb-text\" style=\"',\n",
        "                      'position: absolute;',\n",
        "                      'width: 100%;\">',\n",
        "                    '0%',\n",
        "                  '</div>',\n",
        "                  '<div class=\"pb-bar\" style=\"',\n",
        "                      'background-color: #bdd2e6;',\n",
        "                      'width: 0%;',\n",
        "                      'transition: width 0.1s linear;\">',\n",
        "                    '&nbsp;',\n",
        "                  '</div>',\n",
        "                '</div>'].join(''));\n",
        "            },\n",
        "\n",
        "            update: function() {\n",
        "              this.$el.css({width: '100%', marginBottom: '0.5em'});\n",
        "              var progress = 100 * this.model.get('progress');\n",
        "              var text = this.model.get('text');\n",
        "              this.$el.find('div.pb-bar').width(progress.toString() + '%');\n",
        "              this.$el.find('div.pb-text').text(text);\n",
        "            },\n",
        "          });\n",
        "\n",
        "          manager.WidgetManager.register_widget_view(\n",
        "            'NengoProgressBar', NengoProgressBar);\n",
        "        });"
       ],
       "metadata": {},
       "output_type": "display_data",
       "text": [
        "<IPython.core.display.Javascript at 0xa55f8d0>"
       ]
      }
     ],
     "prompt_number": 1
    },
    {
     "cell_type": "markdown",
     "metadata": {},
     "source": [
      "##Step 1: Create the Model"
     ]
    },
    {
     "cell_type": "markdown",
     "metadata": {},
     "source": [
      "The model has three ensembles, which we will call A, B, and C."
     ]
    },
    {
     "cell_type": "code",
     "collapsed": false,
     "input": [
      "# Create the model object\n",
      "model = nengo.Network(label='Addition')\n",
      "with model:\n",
      "    # Create 3 ensembles each containing 100 leaky integrate-and-fire neurons\n",
      "    # Ensemble A and B will be used for inputs and ensemble C will be used for the computed sum\n",
      "    A = nengo.Ensemble(100, dimensions=1)\n",
      "    B = nengo.Ensemble(100, dimensions=1)\n",
      "    C = nengo.Ensemble(100, dimensions=1)"
     ],
     "language": "python",
     "metadata": {},
     "outputs": [],
     "prompt_number": 2
    },
    {
     "cell_type": "markdown",
     "metadata": {},
     "source": [
      "##Step 2: Provide input to the model"
     ]
    },
    {
     "cell_type": "markdown",
     "metadata": {},
     "source": [
      "We will use two constant scalar values for the two input signals that drive activity in ensembles A and B. "
     ]
    },
    {
     "cell_type": "code",
     "collapsed": false,
     "input": [
      "with model:\n",
      "    # Create input nodes representing constant values\n",
      "    input_a = nengo.Node(output=0.5)\n",
      "    input_b = nengo.Node(output=0.3)"
     ],
     "language": "python",
     "metadata": {},
     "outputs": [],
     "prompt_number": 3
    },
    {
     "cell_type": "markdown",
     "metadata": {},
     "source": [
      "## Step3: Connect the Model Elements"
     ]
    },
    {
     "cell_type": "code",
     "collapsed": false,
     "input": [
      "with model:\n",
      "    # Connect the input nodes to the appropriate ensembles\n",
      "    nengo.Connection(input_a, A)\n",
      "    nengo.Connection(input_b, B)\n",
      "    \n",
      "    # Connect input ensembles A and B to output ensemble C\n",
      "    nengo.Connection(A, C)\n",
      "    nengo.Connection(B, C)"
     ],
     "language": "python",
     "metadata": {},
     "outputs": [],
     "prompt_number": 4
    },
    {
     "cell_type": "markdown",
     "metadata": {},
     "source": [
      "##Step 4: Add Probes to Collect Data"
     ]
    },
    {
     "cell_type": "markdown",
     "metadata": {},
     "source": [
      "Let's collect output data from each ensemble and output. "
     ]
    },
    {
     "cell_type": "code",
     "collapsed": false,
     "input": [
      "with model:\n",
      "    input_a_probe = nengo.Probe(input_a)\n",
      "    input_b_probe = nengo.Probe(input_b)\n",
      "    A_probe = nengo.Probe(A, synapse=0.01)\n",
      "    B_probe = nengo.Probe(B, synapse=0.01)\n",
      "    C_probe = nengo.Probe(C, synapse=0.01)"
     ],
     "language": "python",
     "metadata": {},
     "outputs": [],
     "prompt_number": 5
    },
    {
     "cell_type": "markdown",
     "metadata": {},
     "source": [
      "##Step 5: Run the Model"
     ]
    },
    {
     "cell_type": "markdown",
     "metadata": {},
     "source": [
      "In order to run the model, we have to create a simulator. Then, we can run that simulator over and over again without affecting the original model."
     ]
    },
    {
     "cell_type": "code",
     "collapsed": false,
     "input": [
      "# Create the simulator\n",
      "sim = nengo.Simulator(model)\n",
      "# Run it for 5 seconds\n",
      "sim.run(5)"
     ],
     "language": "python",
     "metadata": {},
     "outputs": [],
     "prompt_number": 6
    },
    {
     "cell_type": "markdown",
     "metadata": {},
     "source": [
      "## Step 6: Plot the Results "
     ]
    },
    {
     "cell_type": "markdown",
     "metadata": {},
     "source": [
      "The data produced by running the model can now be plotted."
     ]
    },
    {
     "cell_type": "code",
     "collapsed": false,
     "input": [
      "# Plot the input signals and decoded ensemble values\n",
      "t = sim.trange()\n",
      "plt.plot(sim.trange(), sim.data[A_probe], label=\"Decoded Ensemble A\")\n",
      "plt.plot(sim.trange(), sim.data[B_probe], label=\"Decoded Ensemble B\")\n",
      "plt.plot(sim.trange(), sim.data[C_probe], label=\"Decoded Ensemble C\")\n",
      "plt.plot(sim.trange(), sim.data[input_a_probe], label=\"Input A\", color='k', linewidth=2.0)\n",
      "plt.plot(sim.trange(), sim.data[input_b_probe], label=\"Input B\", color='0.75', linewidth=2.0)\n",
      "plt.legend(bbox_to_anchor=(1.05, 1), loc=2, borderaxespad=0.)\n",
      "plt.ylim(0, 1)\n",
      "plt.xlabel('time [s]');"
     ],
     "language": "python",
     "metadata": {},
     "outputs": [
      {
       "metadata": {},
       "output_type": "display_data",
       "png": "[encoded data removed]",
       "text": [
        "<matplotlib.figure.Figure at 0xead0128>"
       ]
      }
     ],
     "prompt_number": 7
    },
    {
     "cell_type": "markdown",
     "metadata": {},
     "source": [
      "You can check that the decoded value of the activity in ensemble C provides a good estimate of the sum of inputs A and B."
     ]
    }
   ],
   "metadata": {}
  }
 ]
}