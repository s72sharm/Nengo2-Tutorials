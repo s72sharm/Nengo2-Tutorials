{
 "metadata": {
  "name": "",
  "signature": "sha256:34e49d96c981d35022672dce63de09d6f721a6e9159c4ba2e02ed5ce5531062f"
 },
 "nbformat": 3,
 "nbformat_minor": 0,
 "worksheets": [
  {
   "cells": [
    {
     "cell_type": "heading",
     "level": 1,
     "metadata": {},
     "source": [
      "Addition"
     ]
    },
    {
     "cell_type": "markdown",
     "metadata": {},
     "source": [
      "In this demo, we show a transformation that is the basic property of single neurons - Addition. Addition transforms two inputs into a single output which is their sum. \n",
      "\n",
      "We will construct a network that adds two inputs. The network utilizes two communication channels going into the same neural population. Thus, addition is somewhat \u2018free\u2019, since the incoming currents from different synaptic connections interact linearly."
     ]
    },
    {
     "cell_type": "code",
     "collapsed": false,
     "input": [
      "import matplotlib.pyplot as plt\n",
      "%matplotlib inline\n",
      "\n",
      "import nengo"
     ],
     "language": "python",
     "metadata": {},
     "outputs": [],
     "prompt_number": 8
    },
    {
     "cell_type": "markdown",
     "metadata": {},
     "source": [
      "##Step 1: Create the Model"
     ]
    },
    {
     "cell_type": "markdown",
     "metadata": {},
     "source": [
      "The model has three ensembles, which we will call A, B, and C."
     ]
    },
    {
     "cell_type": "code",
     "collapsed": false,
     "input": [
      "# Create the model object\n",
      "model = nengo.Network(label='Addition')\n",
      "with model:\n",
      "    # Create 3 ensembles each containing 100 leaky integrate-and-fire neurons\n",
      "    # Ensemble A and B will be used for inputs and ensemble C will be used for the computed sum\n",
      "    A = nengo.Ensemble(100, dimensions=1)\n",
      "    B = nengo.Ensemble(100, dimensions=1)\n",
      "    C = nengo.Ensemble(100, dimensions=1)"
     ],
     "language": "python",
     "metadata": {},
     "outputs": [],
     "prompt_number": 9
    },
    {
     "cell_type": "markdown",
     "metadata": {},
     "source": [
      "##Step 2: Create Input for the Model"
     ]
    },
    {
     "cell_type": "markdown",
     "metadata": {},
     "source": [
      "We will use two constant scalar values for the two input signals that drive activity in ensembles A and B. "
     ]
    },
    {
     "cell_type": "code",
     "collapsed": false,
     "input": [
      "with model:\n",
      "    # Create input nodes representing constant values\n",
      "    input_a = nengo.Node(output=0.5)\n",
      "    input_b = nengo.Node(output=0.3)"
     ],
     "language": "python",
     "metadata": {},
     "outputs": [],
     "prompt_number": 10
    },
    {
     "cell_type": "markdown",
     "metadata": {},
     "source": [
      "## Step3: Connect the Model Elements"
     ]
    },
    {
     "cell_type": "code",
     "collapsed": false,
     "input": [
      "with model:\n",
      "    # Connect the input nodes to the appropriate ensembles\n",
      "    nengo.Connection(input_a, A)\n",
      "    nengo.Connection(input_b, B)\n",
      "    \n",
      "    # Connect input ensembles A and B to output ensemble C\n",
      "    nengo.Connection(A, C)\n",
      "    nengo.Connection(B, C)"
     ],
     "language": "python",
     "metadata": {},
     "outputs": [],
     "prompt_number": 11
    },
    {
     "cell_type": "markdown",
     "metadata": {},
     "source": [
      "##Step 4: Add Probes to Collect Data"
     ]
    },
    {
     "cell_type": "markdown",
     "metadata": {},
     "source": [
      "Let's collect output data from each ensemble and output. "
     ]
    },
    {
     "cell_type": "code",
     "collapsed": false,
     "input": [
      "with model:\n",
      "    input_a_probe = nengo.Probe(input_a)\n",
      "    input_b_probe = nengo.Probe(input_b)\n",
      "    A_probe = nengo.Probe(A, synapse=0.01)\n",
      "    B_probe = nengo.Probe(B, synapse=0.01)\n",
      "    C_probe = nengo.Probe(C, synapse=0.01)"
     ],
     "language": "python",
     "metadata": {},
     "outputs": [],
     "prompt_number": 12
    },
    {
     "cell_type": "markdown",
     "metadata": {},
     "source": [
      "##Step 5: Run the Model"
     ]
    },
    {
     "cell_type": "markdown",
     "metadata": {},
     "source": [
      "In order to run the model, we have to create a simulator. Then, we can run that simulator over and over again without affecting the original model."
     ]
    },
    {
     "cell_type": "code",
     "collapsed": false,
     "input": [
      "# Create the simulator\n",
      "sim = nengo.Simulator(model)\n",
      "# Run it for 5 seconds\n",
      "sim.run(5)"
     ],
     "language": "python",
     "metadata": {},
     "outputs": [],
     "prompt_number": 13
    },
    {
     "cell_type": "markdown",
     "metadata": {},
     "source": [
      "## Step 6: Plot the Results "
     ]
    },
    {
     "cell_type": "markdown",
     "metadata": {},
     "source": [
      "The data produced by running the model can now be plotted."
     ]
    },
    {
     "cell_type": "code",
     "collapsed": false,
     "input": [
      "# Plot the input signals and decoded ensemble values\n",
      "t = sim.trange()\n",
      "plt.plot(sim.trange(), sim.data[A_probe], label=\"Decoded Ensemble A\")\n",
      "plt.plot(sim.trange(), sim.data[B_probe], label=\"Decoded Ensemble B\")\n",
      "plt.plot(sim.trange(), sim.data[C_probe], label=\"Decoded Ensemble C\")\n",
      "plt.plot(sim.trange(), sim.data[input_a_probe], label=\"Input A\", color='k', linewidth=2.0)\n",
      "plt.plot(sim.trange(), sim.data[input_b_probe], label=\"Input B\", color='0.75', linewidth=2.0)\n",
      "plt.legend(bbox_to_anchor=(1.05, 1), loc=2, borderaxespad=0.)\n",
      "plt.ylim(0, 1)\n",
      "plt.xlabel('time [s]');"
     ],
     "language": "python",
     "metadata": {},
     "outputs": [
      {
       "metadata": {},
       "output_type": "display_data",
       "png": "[encoded data removed]",
       "text": [
        "<matplotlib.figure.Figure at 0xefd5da0>"
       ]
      }
     ],
     "prompt_number": 19
    },
    {
     "cell_type": "markdown",
     "metadata": {},
     "source": [
      "You can check that the decoded value of the activity in ensemble C provides a good estimate of the sum of inputs A and B."
     ]
    }
   ],
   "metadata": {}
  }
 ]
}